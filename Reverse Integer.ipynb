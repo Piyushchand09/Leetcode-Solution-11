{
 "cells": [
  {
   "cell_type": "code",
   "execution_count": null,
   "id": "e7fd8573",
   "metadata": {
    "vscode": {
     "languageId": "plaintext"
    }
   },
   "outputs": [],
   "source": [
    "# Reverse Integer\n",
    "class Solution:\n",
    "    def reverse(self, x: int) -> int:\n",
    "        is_negative = x < 0\n",
    "        x = abs(x)\n",
    "        reversed_num = 0\n",
    "        while x > 0 : \n",
    "            reversed_num = reversed_num *10 + x % 10\n",
    "            x //= 10\n",
    "        if is_negative:\n",
    "            reversed_num = -reversed_num\n",
    "        if reversed_num < -2**31 or reversed_num > 2**31 -1:\n",
    "            return 0\n",
    "        return reversed_num "
   ]
  }
 ],
 "metadata": {
  "kernelspec": {
   "display_name": "Python 3 (ipykernel)",
   "language": "python",
   "name": "python3"
  },
  "language_info": {
   "codemirror_mode": {
    "name": "ipython",
    "version": 3
   },
   "file_extension": ".py",
   "mimetype": "text/x-python",
   "name": "python",
   "nbconvert_exporter": "python",
   "pygments_lexer": "ipython3",
   "version": "3.12.4"
  }
 },
 "nbformat": 4,
 "nbformat_minor": 5
}
